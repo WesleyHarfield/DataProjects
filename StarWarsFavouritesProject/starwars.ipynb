{
 "cells": [
  {
   "cell_type": "markdown",
   "metadata": {},
   "source": [
    "## Dataset and Problem Introduction\n",
    "\n",
    "In this analysis, we explore a survey on the most and least popular characters from [Star Wars.](https://en.wikipedia.org/wiki/Star_Wars)\n",
    "\n",
    "Data Source: https://fivethirtyeight.com/features/americas-favorite-star-wars-movies-and-least-favorite-characters/\n",
    "<br>Reference: https://dataquest.io/"
   ]
  },
  {
   "cell_type": "code",
   "execution_count": 15,
   "metadata": {},
   "outputs": [
    {
     "data": {
      "text/html": [
       "<div>\n",
       "<style scoped>\n",
       "    .dataframe tbody tr th:only-of-type {\n",
       "        vertical-align: middle;\n",
       "    }\n",
       "\n",
       "    .dataframe tbody tr th {\n",
       "        vertical-align: top;\n",
       "    }\n",
       "\n",
       "    .dataframe thead th {\n",
       "        text-align: right;\n",
       "    }\n",
       "</style>\n",
       "<table border=\"1\" class=\"dataframe\">\n",
       "  <thead>\n",
       "    <tr style=\"text-align: right;\">\n",
       "      <th></th>\n",
       "      <th>RespondentID</th>\n",
       "      <th>Have you seen any of the 6 films in the Star Wars franchise?</th>\n",
       "      <th>Do you consider yourself to be a fan of the Star Wars film franchise?</th>\n",
       "      <th>Which of the following Star Wars films have you seen? Please select all that apply.</th>\n",
       "      <th>Unnamed: 4</th>\n",
       "      <th>Unnamed: 5</th>\n",
       "      <th>Unnamed: 6</th>\n",
       "      <th>Unnamed: 7</th>\n",
       "      <th>Unnamed: 8</th>\n",
       "      <th>Please rank the Star Wars films in order of preference with 1 being your favorite film in the franchise and 6 being your least favorite film.</th>\n",
       "      <th>...</th>\n",
       "      <th>Unnamed: 28</th>\n",
       "      <th>Which character shot first?</th>\n",
       "      <th>Are you familiar with the Expanded Universe?</th>\n",
       "      <th>Do you consider yourself to be a fan of the Expanded Universe?ÂÃ¦</th>\n",
       "      <th>Do you consider yourself to be a fan of the Star Trek franchise?</th>\n",
       "      <th>Gender</th>\n",
       "      <th>Age</th>\n",
       "      <th>Household Income</th>\n",
       "      <th>Education</th>\n",
       "      <th>Location (Census Region)</th>\n",
       "    </tr>\n",
       "  </thead>\n",
       "  <tbody>\n",
       "    <tr>\n",
       "      <th>0</th>\n",
       "      <td>NaN</td>\n",
       "      <td>Response</td>\n",
       "      <td>Response</td>\n",
       "      <td>Star Wars: Episode I  The Phantom Menace</td>\n",
       "      <td>Star Wars: Episode II  Attack of the Clones</td>\n",
       "      <td>Star Wars: Episode III  Revenge of the Sith</td>\n",
       "      <td>Star Wars: Episode IV  A New Hope</td>\n",
       "      <td>Star Wars: Episode V The Empire Strikes Back</td>\n",
       "      <td>Star Wars: Episode VI Return of the Jedi</td>\n",
       "      <td>Star Wars: Episode I  The Phantom Menace</td>\n",
       "      <td>...</td>\n",
       "      <td>Yoda</td>\n",
       "      <td>Response</td>\n",
       "      <td>Response</td>\n",
       "      <td>Response</td>\n",
       "      <td>Response</td>\n",
       "      <td>Response</td>\n",
       "      <td>Response</td>\n",
       "      <td>Response</td>\n",
       "      <td>Response</td>\n",
       "      <td>Response</td>\n",
       "    </tr>\n",
       "    <tr>\n",
       "      <th>1</th>\n",
       "      <td>3.292880e+09</td>\n",
       "      <td>Yes</td>\n",
       "      <td>Yes</td>\n",
       "      <td>Star Wars: Episode I  The Phantom Menace</td>\n",
       "      <td>Star Wars: Episode II  Attack of the Clones</td>\n",
       "      <td>Star Wars: Episode III  Revenge of the Sith</td>\n",
       "      <td>Star Wars: Episode IV  A New Hope</td>\n",
       "      <td>Star Wars: Episode V The Empire Strikes Back</td>\n",
       "      <td>Star Wars: Episode VI Return of the Jedi</td>\n",
       "      <td>3</td>\n",
       "      <td>...</td>\n",
       "      <td>Very favorably</td>\n",
       "      <td>I don't understand this question</td>\n",
       "      <td>Yes</td>\n",
       "      <td>No</td>\n",
       "      <td>No</td>\n",
       "      <td>Male</td>\n",
       "      <td>18-29</td>\n",
       "      <td>NaN</td>\n",
       "      <td>High school degree</td>\n",
       "      <td>South Atlantic</td>\n",
       "    </tr>\n",
       "    <tr>\n",
       "      <th>2</th>\n",
       "      <td>3.292880e+09</td>\n",
       "      <td>No</td>\n",
       "      <td>NaN</td>\n",
       "      <td>NaN</td>\n",
       "      <td>NaN</td>\n",
       "      <td>NaN</td>\n",
       "      <td>NaN</td>\n",
       "      <td>NaN</td>\n",
       "      <td>NaN</td>\n",
       "      <td>NaN</td>\n",
       "      <td>...</td>\n",
       "      <td>NaN</td>\n",
       "      <td>NaN</td>\n",
       "      <td>NaN</td>\n",
       "      <td>NaN</td>\n",
       "      <td>Yes</td>\n",
       "      <td>Male</td>\n",
       "      <td>18-29</td>\n",
       "      <td>$0 - $24,999</td>\n",
       "      <td>Bachelor degree</td>\n",
       "      <td>West South Central</td>\n",
       "    </tr>\n",
       "    <tr>\n",
       "      <th>3</th>\n",
       "      <td>3.292765e+09</td>\n",
       "      <td>Yes</td>\n",
       "      <td>No</td>\n",
       "      <td>Star Wars: Episode I  The Phantom Menace</td>\n",
       "      <td>Star Wars: Episode II  Attack of the Clones</td>\n",
       "      <td>Star Wars: Episode III  Revenge of the Sith</td>\n",
       "      <td>NaN</td>\n",
       "      <td>NaN</td>\n",
       "      <td>NaN</td>\n",
       "      <td>1</td>\n",
       "      <td>...</td>\n",
       "      <td>Unfamiliar (N/A)</td>\n",
       "      <td>I don't understand this question</td>\n",
       "      <td>No</td>\n",
       "      <td>NaN</td>\n",
       "      <td>No</td>\n",
       "      <td>Male</td>\n",
       "      <td>18-29</td>\n",
       "      <td>$0 - $24,999</td>\n",
       "      <td>High school degree</td>\n",
       "      <td>West North Central</td>\n",
       "    </tr>\n",
       "    <tr>\n",
       "      <th>4</th>\n",
       "      <td>3.292763e+09</td>\n",
       "      <td>Yes</td>\n",
       "      <td>Yes</td>\n",
       "      <td>Star Wars: Episode I  The Phantom Menace</td>\n",
       "      <td>Star Wars: Episode II  Attack of the Clones</td>\n",
       "      <td>Star Wars: Episode III  Revenge of the Sith</td>\n",
       "      <td>Star Wars: Episode IV  A New Hope</td>\n",
       "      <td>Star Wars: Episode V The Empire Strikes Back</td>\n",
       "      <td>Star Wars: Episode VI Return of the Jedi</td>\n",
       "      <td>5</td>\n",
       "      <td>...</td>\n",
       "      <td>Very favorably</td>\n",
       "      <td>I don't understand this question</td>\n",
       "      <td>No</td>\n",
       "      <td>NaN</td>\n",
       "      <td>Yes</td>\n",
       "      <td>Male</td>\n",
       "      <td>18-29</td>\n",
       "      <td>$100,000 - $149,999</td>\n",
       "      <td>Some college or Associate degree</td>\n",
       "      <td>West North Central</td>\n",
       "    </tr>\n",
       "  </tbody>\n",
       "</table>\n",
       "<p>5 rows × 38 columns</p>\n",
       "</div>"
      ],
      "text/plain": [
       "   RespondentID Have you seen any of the 6 films in the Star Wars franchise?  \\\n",
       "0           NaN                                           Response             \n",
       "1  3.292880e+09                                                Yes             \n",
       "2  3.292880e+09                                                 No             \n",
       "3  3.292765e+09                                                Yes             \n",
       "4  3.292763e+09                                                Yes             \n",
       "\n",
       "  Do you consider yourself to be a fan of the Star Wars film franchise?  \\\n",
       "0                                           Response                      \n",
       "1                                                Yes                      \n",
       "2                                                NaN                      \n",
       "3                                                 No                      \n",
       "4                                                Yes                      \n",
       "\n",
       "  Which of the following Star Wars films have you seen? Please select all that apply.  \\\n",
       "0           Star Wars: Episode I  The Phantom Menace                                    \n",
       "1           Star Wars: Episode I  The Phantom Menace                                    \n",
       "2                                                NaN                                    \n",
       "3           Star Wars: Episode I  The Phantom Menace                                    \n",
       "4           Star Wars: Episode I  The Phantom Menace                                    \n",
       "\n",
       "                                    Unnamed: 4  \\\n",
       "0  Star Wars: Episode II  Attack of the Clones   \n",
       "1  Star Wars: Episode II  Attack of the Clones   \n",
       "2                                          NaN   \n",
       "3  Star Wars: Episode II  Attack of the Clones   \n",
       "4  Star Wars: Episode II  Attack of the Clones   \n",
       "\n",
       "                                    Unnamed: 5  \\\n",
       "0  Star Wars: Episode III  Revenge of the Sith   \n",
       "1  Star Wars: Episode III  Revenge of the Sith   \n",
       "2                                          NaN   \n",
       "3  Star Wars: Episode III  Revenge of the Sith   \n",
       "4  Star Wars: Episode III  Revenge of the Sith   \n",
       "\n",
       "                          Unnamed: 6  \\\n",
       "0  Star Wars: Episode IV  A New Hope   \n",
       "1  Star Wars: Episode IV  A New Hope   \n",
       "2                                NaN   \n",
       "3                                NaN   \n",
       "4  Star Wars: Episode IV  A New Hope   \n",
       "\n",
       "                                     Unnamed: 7  \\\n",
       "0  Star Wars: Episode V The Empire Strikes Back   \n",
       "1  Star Wars: Episode V The Empire Strikes Back   \n",
       "2                                           NaN   \n",
       "3                                           NaN   \n",
       "4  Star Wars: Episode V The Empire Strikes Back   \n",
       "\n",
       "                                 Unnamed: 8  \\\n",
       "0  Star Wars: Episode VI Return of the Jedi   \n",
       "1  Star Wars: Episode VI Return of the Jedi   \n",
       "2                                       NaN   \n",
       "3                                       NaN   \n",
       "4  Star Wars: Episode VI Return of the Jedi   \n",
       "\n",
       "  Please rank the Star Wars films in order of preference with 1 being your favorite film in the franchise and 6 being your least favorite film.  \\\n",
       "0           Star Wars: Episode I  The Phantom Menace                                                                                              \n",
       "1                                                  3                                                                                              \n",
       "2                                                NaN                                                                                              \n",
       "3                                                  1                                                                                              \n",
       "4                                                  5                                                                                              \n",
       "\n",
       "   ...       Unnamed: 28       Which character shot first?  \\\n",
       "0  ...              Yoda                          Response   \n",
       "1  ...    Very favorably  I don't understand this question   \n",
       "2  ...               NaN                               NaN   \n",
       "3  ...  Unfamiliar (N/A)  I don't understand this question   \n",
       "4  ...    Very favorably  I don't understand this question   \n",
       "\n",
       "  Are you familiar with the Expanded Universe?  \\\n",
       "0                                     Response   \n",
       "1                                          Yes   \n",
       "2                                          NaN   \n",
       "3                                           No   \n",
       "4                                           No   \n",
       "\n",
       "  Do you consider yourself to be a fan of the Expanded Universe?ÂÃ¦  \\\n",
       "0                                           Response                   \n",
       "1                                                 No                   \n",
       "2                                                NaN                   \n",
       "3                                                NaN                   \n",
       "4                                                NaN                   \n",
       "\n",
       "  Do you consider yourself to be a fan of the Star Trek franchise?    Gender  \\\n",
       "0                                           Response                Response   \n",
       "1                                                 No                    Male   \n",
       "2                                                Yes                    Male   \n",
       "3                                                 No                    Male   \n",
       "4                                                Yes                    Male   \n",
       "\n",
       "        Age     Household Income                         Education  \\\n",
       "0  Response             Response                          Response   \n",
       "1     18-29                  NaN                High school degree   \n",
       "2     18-29         $0 - $24,999                   Bachelor degree   \n",
       "3     18-29         $0 - $24,999                High school degree   \n",
       "4     18-29  $100,000 - $149,999  Some college or Associate degree   \n",
       "\n",
       "  Location (Census Region)  \n",
       "0                 Response  \n",
       "1           South Atlantic  \n",
       "2       West South Central  \n",
       "3       West North Central  \n",
       "4       West North Central  \n",
       "\n",
       "[5 rows x 38 columns]"
      ]
     },
     "execution_count": 15,
     "metadata": {},
     "output_type": "execute_result"
    }
   ],
   "source": [
    "import numpy as np \n",
    "import pandas as pd\n",
    "import matplotlib.pyplot as plt\n",
    "import plotly.graph_objects as go\n",
    "%matplotlib inline\n",
    "\n",
    "# We need to specify the \"ISO-8859-1\" encoding because the data set has some characters that aren't in Python's default \"utf-8\" encoding.\n",
    "star_wars = pd.read_csv(\"datasets/star_wars.csv\", encoding=\"ISO-8859-1\")\n",
    "star_wars.head(5)"
   ]
  },
  {
   "cell_type": "markdown",
   "metadata": {},
   "source": [
    "## Data Dictionary\n",
    "* **`RespondentID`** : An anonymized ID for the respondent (person taking the survey)\n",
    "* **`Gender`** : The respondent's gender\n",
    "* **`Age`** : The respondent's age\n",
    "* **`Household Income`** : The respondent's income\n",
    "* **`Education`** : The respondent's education level\n",
    "* **`Location (Census Region)`** : The respondent's location\n",
    "* **`Have you seen any of the 6 films in the Star Wars franchise?`** : Has a Yes or No response\n",
    "* **`Do you consider yourself to be a fan of the Star Wars film franchise?`** : Has a Yes or No response"
   ]
  },
  {
   "cell_type": "markdown",
   "metadata": {},
   "source": [
    "## Data Cleaning\n",
    "\n",
    "* **'RespondentID'** remove NaN values.\n",
    "* Value conversion:\n",
    "    * Columns like **'Have you seen any of the 6 films in the Star Wars franchise?'** and **'Do you consider yourself to be a fan of the Star Wars film franchise?'**  are string type, because the main values they contain are 'Yes' and 'No'. We convert them to a Boolean having only the values True, False, and NaN.\n",
    "    * Columns **'Which of the following Star Wars films have you seen? Please select all that apply.'** to **'Unnamed: 8'** are object type. We convert each of these columns to Boolean 'True' and 'False' values.\n",
    "* Rename columns:\n",
    "    * The names of columns **'Which of the following Star Wars films have you seen? Please select all that apply.'** to **'Unnamed: 8'** need to be more intuitive, the same case with columns from **'Please rank the Star Wars films in order of preference with 1 being your favorite film in the franchise and 6 being your least favorite film.'** to **'Unamed: 14'** and columns from **'Please state whether you view the following characters favorably, unfavorably, or are unfamiliar with him/her.'** to **'Unnamed: 28'**.\n",
    "    \n",
    "* We remove the strange Characters from **'Do you consider yourself to be a fan of the Expanded Universe?ÂÃ¦'**"
   ]
  },
  {
   "cell_type": "code",
   "execution_count": 16,
   "metadata": {},
   "outputs": [
    {
     "data": {
      "text/plain": [
       "['Han Solo',\n",
       " 'Luke Skywalker',\n",
       " 'Princess Leia Organa',\n",
       " 'Anakin Skywalker',\n",
       " 'Obi Wan Kenobi',\n",
       " 'Emperor Palpatine',\n",
       " 'Darth Vader',\n",
       " 'Lando Calrissian',\n",
       " 'Boba Fett',\n",
       " 'C-3P0',\n",
       " 'R2 D2',\n",
       " 'Jar Jar Binks',\n",
       " 'Padme Amidala',\n",
       " 'Yoda']"
      ]
     },
     "execution_count": 16,
     "metadata": {},
     "output_type": "execute_result"
    }
   ],
   "source": [
    "characters = star_wars.iloc[0, 15:29].values.tolist()\n",
    "characters"
   ]
  },
  {
   "cell_type": "code",
   "execution_count": 17,
   "metadata": {},
   "outputs": [],
   "source": [
    "# Remove any rows where RespondentID is NaN\n",
    "star_wars = star_wars[star_wars['RespondentID'].notnull()]\n",
    "\n",
    "\n",
    "#characters = star_wars.iloc[0, 15:29].values.tolist()\n",
    "# Renaming columns related to the question 'Which of the following Star Wars films have you seen?'\n",
    "i_saw_it = {\"Which of the following Star Wars films have you seen? Please select all that apply.\": \"I saw Star Wars: Episode I  The Phantom Menace\",\n",
    "        \"Unnamed: 4\": \"I saw Star Wars: Episode II  Attack of the Clones\",\n",
    "        \"Unnamed: 5\": \"I saw Star Wars: Episode III  Revenge of the Sith\",\n",
    "        \"Unnamed: 6\": \"I saw Star Wars: Episode IV  A New Hope\",\n",
    "        \"Unnamed: 7\": \"I saw Star Wars: Episode V The Empire Strikes Back\",\n",
    "        \"Unnamed: 8\": \"I saw Star Wars: Episode VI Return of the Jedi\"}\n",
    "star_wars.rename(columns=i_saw_it,inplace=True)\n",
    "\n",
    "# Renaming columns related to the question 'Please rank the Star Wars films in order of preference\n",
    "# with 1 being your favorite film in the franchise and 6 being your least favorite film.'    \n",
    "ranking = {\"Please rank the Star Wars films in order of preference with 1 being your favorite film in the franchise and 6 being your least favorite film.\": \"Star Wars: Episode I  The Phantom Menace rank\",\n",
    "        \"Unnamed: 10\": \"Star Wars: Episode II  Attack of the Clones rank\",\n",
    "        \"Unnamed: 11\": \"Star Wars: Episode III  Revenge of the Sith rank\",\n",
    "        \"Unnamed: 12\": \"Star Wars: Episode IV  A New Hope rank\",\n",
    "        \"Unnamed: 13\": \"Star Wars: Episode V The Empire Strikes Back rank\",\n",
    "        \"Unnamed: 14\": \"Star Wars: Episode VI Return of the Jedi rank\"}\n",
    "star_wars.rename(columns=ranking,inplace=True)\n",
    "\n",
    "# Renaming columns related to the question 'Please state whether you view the following characters \n",
    "#favorably, unfavorably, or are unfamiliar with him/her.\n",
    "star_wars_characters = dict(zip(star_wars.columns[15:29],characters))\n",
    "star_wars.rename(columns=star_wars_characters,inplace=True)\n",
    "\n",
    "# remove strange characters from 'Do you consider yourself to be a fan of the Expanded Universe?ÂÃ¦\n",
    "star_wars.columns = star_wars.columns.str.replace('ÂÃ¦','')\n",
    "\n",
    "\n",
    "# define a function that update the value to True if the value is the name of the movie, False if the value is None.\n",
    "def update_val(val):\n",
    "    if val in [\"Star Wars: Episode I  The Phantom Menace\",\n",
    "        \"Star Wars: Episode II  Attack of the Clones\",\n",
    "        \"Star Wars: Episode III  Revenge of the Sith\",\n",
    "        \"Star Wars: Episode IV  A New Hope\",\n",
    "        \"Star Wars: Episode V The Empire Strikes Back\",\n",
    "        \"Star Wars: Episode VI Return of the Jedi\"]:\n",
    "        return True\n",
    "    else:\n",
    "        return False\n",
    "\n",
    "# apply the update_val element-wise on columns from position 3 to 8.    \n",
    "star_wars[star_wars.columns[3:9]] = star_wars[star_wars.columns[3:9]].applymap(update_val)\n",
    "\n",
    "\n",
    "# define a function that change 'Yes' to 'True' and 'No' to 'False'.\n",
    "def yes_no(val):\n",
    "    if val == \"Yes\":\n",
    "        return True\n",
    "    elif val == \"No\":\n",
    "        return False\n",
    "\n",
    "# apply the function yes_no element-wise on columns with position 1,2,30,31 and 32.    \n",
    "star_wars[star_wars.columns[[1,2,30,31,32]]] = star_wars[star_wars.columns[[1,2,30,31,32]]].applymap(yes_no)"
   ]
  },
  {
   "cell_type": "markdown",
   "metadata": {},
   "source": [
    "## Data Analysis\n",
    "The respondents were asked to rank the Star Wars movies in order of least favourite to most favourite, with 1 meaning the film was the most favourite, and 6 meaning it was the least favourite. "
   ]
  },
  {
   "cell_type": "code",
   "execution_count": 18,
   "metadata": {},
   "outputs": [
    {
     "data": {
      "image/png": "[encoded data removed]",
      "text/plain": [
       "<Figure size 576x360 with 1 Axes>"
      ]
     },
     "metadata": {
      "needs_background": "light"
     },
     "output_type": "display_data"
    }
   ],
   "source": [
    "# find the mean of each of the ranking columns\n",
    "ranking = star_wars[star_wars.columns[9:15]].astype(float).mean(axis=0)\n",
    "# visualization \n",
    "fig , ax = plt.subplots(figsize=[8,5])\n",
    "ax = star_wars[star_wars.columns[9:15]].astype(float).mean(axis=0).plot.barh(color='blue')\n",
    "# remove x ticks labels\n",
    "ax.set_xticks([])\n",
    "# remove spines\n",
    "for key,spine in ax.spines.items():\n",
    "    spine.set_visible(False)    \n",
    "# set title\n",
    "ax.set_title('Star Wars movies ranked by repondents',size=15)\n",
    "# remove y ticks\n",
    "ax.yaxis.set_ticks_position('none')\n",
    "ax.xaxis.set_ticks_position('none')\n",
    "# add padding between axes and labels set y label size\n",
    "ax.xaxis.set_tick_params(pad=5)\n",
    "ax.yaxis.set_tick_params(pad=10,labelsize=12)\n",
    "# annotation\n",
    "for p, q in zip(ax.patches, ranking.index.values.tolist()):\n",
    "    ax.text(p.get_width()+.1,p.get_y()+p.get_height()/2-.1,'rank '+str(ranking.sort_values(ascending=True).index.values.tolist().index(q)+1),size=12)\n"
   ]
  },
  {
   "cell_type": "markdown",
   "metadata": {},
   "source": [
    "In general, fans seem to prefer the original trilogy of the cinematic saga of Star Wars which consists of \"A New Hope (1977)\", \"The Empire Strikes Back (1980)\" and \"Return of the Jedi (1983)\". `\"Star Wars: Episode V The Empire Strikes Back\"` is considered by the respondents to be the best film in the saga."
   ]
  },
  {
   "cell_type": "code",
   "execution_count": 19,
   "metadata": {},
   "outputs": [
    {
     "data": {
      "image/png": "[encoded data removed]",
      "text/plain": [
       "<Figure size 576x360 with 1 Axes>"
      ]
     },
     "metadata": {
      "needs_background": "light"
     },
     "output_type": "display_data"
    }
   ],
   "source": [
    "fig,ax = plt.subplots(figsize=[8,5])\n",
    "ax = star_wars[star_wars.columns[3:9]].sum(axis=0).sort_values().plot.barh(color='blue')\n",
    "# remove spines\n",
    "for key,spine in ax.spines.items():\n",
    "    spine.set_visible(False) \n",
    "# remove x ticks labels\n",
    "ax.set_xticklabels([])\n",
    "# set title\n",
    "ax.set_title('The most seen Star Wars Movie',size=15)\n",
    "# remove x,y Ticks\n",
    "ax.yaxis.set_ticks_position('none')\n",
    "ax.xaxis.set_ticks_position('none')\n",
    "# add padding between axes and labels\n",
    "ax.xaxis.set_tick_params(pad=5)\n",
    "ax.yaxis.set_tick_params(pad=10,labelsize=12)"
   ]
  },
  {
   "cell_type": "markdown",
   "metadata": {},
   "source": [
    "`\"Star Wars: Episode V The Empire Strikes Back\"` is the most seen Star Wars movie by the respondents. In general, the results correlate positively with the ranking, the more the movie is popular, the more it is watched."
   ]
  },
  {
   "cell_type": "code",
   "execution_count": 20,
   "metadata": {},
   "outputs": [
    {
     "data": {
      "image/png": "[encoded data removed]",
      "text/plain": [
       "<Figure size 576x360 with 1 Axes>"
      ]
     },
     "metadata": {
      "needs_background": "light"
     },
     "output_type": "display_data"
    }
   ],
   "source": [
    "# star wars movies names\n",
    "sw_movies_rank = star_wars.columns[9:15]\n",
    "# male's preferences\n",
    "male_preference = star_wars.loc[star_wars[\"Gender\"] == \"Male\",sw_movies_rank].astype(float).mean()\n",
    "# female's preferences\n",
    "female_preference = star_wars.loc[star_wars[\"Gender\"] == \"Female\",sw_movies_rank].astype(float).mean()\n",
    "\n",
    "# visualization :\n",
    "fig,ax = plt.subplots(figsize=[8,5])\n",
    "\n",
    "y_index = np.array([0,1.5,3,4.5,6,7.5])\n",
    "height = .5\n",
    "# plotting male_preference \n",
    "m = ax.barh(y_index ,male_preference,height)\n",
    "# plotting female_preference \n",
    "f= ax.barh(y_index+height ,female_preference,height,color='orange')\n",
    "# set y axis ticks and labels\n",
    "ax.set_yticks(y_index+.5)\n",
    "ax.set_yticklabels(labels=sw_movies_rank.values)\n",
    "# remove spines\n",
    "for key,spine in ax.spines.items():\n",
    "    spine.set_visible(False) \n",
    "# remove x,y Ticks\n",
    "ax.yaxis.set_ticks_position('none')\n",
    "ax.xaxis.set_ticks_position('none')\n",
    "# remove x ticks labels\n",
    "ax.set_xticklabels([])\n",
    "# set title\n",
    "ax.set_title('Star Wars movies ranked by Gender',size=15)\n",
    "# legend\n",
    "ax.legend((m, f), ('Male', 'Female'))\n",
    "# annotation_male\n",
    "for p, q in zip(m.patches, male_preference.index.values.tolist()):\n",
    "    ax.text(p.get_width()+.1,p.get_y()+p.get_height()/2-.13,'rank '+str(male_preference.sort_values(ascending=True).index.values.tolist().index(q)+1),size=10)\n",
    "# annotation_female\n",
    "for p, q in zip(f.patches, female_preference.index.values.tolist()):\n",
    "    ax.text(p.get_width()+.1,p.get_y()+p.get_height()/2-.13,'rank '+str(female_preference.sort_values(ascending=True).index.values.tolist().index(q)+1),size=10)"
   ]
  },
  {
   "cell_type": "markdown",
   "metadata": {},
   "source": [
    "`\"Episode V: The Empire Strikes Back\"` is the most popular Star Wars film among female and male fans. Men rated the three original movies at the top of their favourite Star Wars films while only two of the original movies were highly rated by women, they considered `\" Episode I: The Phantom Menace 1999\"` to be more popular than `\"Episode IV: A New Hope 1977\"`."
   ]
  },
  {
   "cell_type": "code",
   "execution_count": 21,
   "metadata": {},
   "outputs": [
    {
     "data": {
      "text/plain": [
       "<matplotlib.legend.Legend at 0x1d494943b08>"
      ]
     },
     "execution_count": 21,
     "metadata": {},
     "output_type": "execute_result"
    },
    {
     "data": {
      "image/png": "[encoded data removed]",
      "text/plain": [
       "<Figure size 576x360 with 1 Axes>"
      ]
     },
     "metadata": {
      "needs_background": "light"
     },
     "output_type": "display_data"
    }
   ],
   "source": [
    "seen = star_wars.columns[3:9]\n",
    "seen_movie_by_male = star_wars.loc[star_wars[\"Gender\"] == \"Male\",seen].astype(float).sum()\n",
    "seen_movie_by_female = star_wars.loc[star_wars[\"Gender\"] == \"Female\",seen].astype(float).sum()\n",
    "\n",
    "fig,ax = plt.subplots(figsize=[8,5])\n",
    "\n",
    "y_index = np.array([0,1.5,3,4.5,6,7.5])\n",
    "height = .5\n",
    "\n",
    "m = ax.barh(y_index ,seen_movie_by_male,height)\n",
    "f= ax.barh(y_index+height ,seen_movie_by_female,height,color='orange')\n",
    "# set y axis ticks and labels\n",
    "ax.set_yticks(y_index+.5)\n",
    "ax.set_yticklabels(labels=seen.values)\n",
    "# remove spines\n",
    "for key,spine in ax.spines.items():\n",
    "    spine.set_visible(False) \n",
    "# remove x,y Ticks\n",
    "ax.yaxis.set_ticks_position('none')\n",
    "ax.xaxis.set_ticks_position('none')\n",
    "# remove x ticks labels\n",
    "ax.set_xticklabels([])\n",
    "# set title\n",
    "ax.set_title('The most seen Star Wars movie by Gender',size=15)\n",
    "# set legend\n",
    "ax.legend((m, f), ('Male', 'Female'),loc='center right',bbox_to_anchor=(1.1, 0.3))"
   ]
  },
  {
   "cell_type": "markdown",
   "metadata": {},
   "source": [
    "Star Wars movies are more popular among men than women, `\"Episode V The Empire Strikes Back\"` is the most watched Star Wars movie among both of men and women."
   ]
  },
  {
   "cell_type": "code",
   "execution_count": 22,
   "metadata": {},
   "outputs": [
    {
     "data": {
      "text/plain": [
       "Text(0.5, 1.0, 'Education level for Star Wars fans who responded to the survey')"
      ]
     },
     "execution_count": 22,
     "metadata": {},
     "output_type": "execute_result"
    },
    {
     "data": {
      "image/png": "[encoded data removed]",
      "text/plain": [
       "<Figure size 576x360 with 1 Axes>"
      ]
     },
     "metadata": {
      "needs_background": "light"
     },
     "output_type": "display_data"
    }
   ],
   "source": [
    "fig,ax = plt.subplots(figsize=[8,5])\n",
    "\n",
    "ax= (star_wars.loc[star_wars['Do you consider yourself to be a fan of the Star Trek franchise?'] == True,'Education'].value_counts()*100/552).plot.barh(color='blue')\n",
    "\n",
    "# remove spines\n",
    "for key,spine in ax.spines.items():\n",
    "    spine.set_visible(False) \n",
    "# remove x,y Ticks\n",
    "ax.yaxis.set_ticks_position('none')\n",
    "ax.xaxis.set_ticks_position('none')\n",
    "# set x axis label\n",
    "ax.set_xlabel('%')\n",
    "# set title\n",
    "ax.set_title('Education level for Star Wars fans who responded to the survey',size=12)"
   ]
  },
  {
   "cell_type": "markdown",
   "metadata": {},
   "source": [
    "95% of the Star Wars fans who respond to the survey have more than a High school degree."
   ]
  },
  {
   "cell_type": "code",
   "execution_count": 23,
   "metadata": {},
   "outputs": [
    {
     "data": {
      "image/png": "[encoded data removed]",
      "text/plain": [
       "<Figure size 360x360 with 1 Axes>"
      ]
     },
     "metadata": {},
     "output_type": "display_data"
    }
   ],
   "source": [
    "geek=(star_wars['Do you consider yourself to be a fan of the Star Trek franchise?'] == True) & (star_wars['Do you consider yourself to be a fan of the Star Wars film franchise?']==True)\n",
    "\n",
    "fig,ax = plt.subplots(figsize=[5,5])\n",
    "ax= (star_wars.loc[geek,'Age'].value_counts()*100/geek.astype(int).sum()).plot.pie(autopct='%1.1f%%',explode=[0,0,0,0], startangle=90)\n",
    "ax.axis('equal')  # Equal aspect ratio ensures that pie is drawn as a circle.\n",
    "ax.set_ylabel('')\n",
    "ax.set_title('Science fiction movie fans by age categories').set_position([.5, 1.05])"
   ]
  },
  {
   "cell_type": "markdown",
   "metadata": {},
   "source": [
    "About 25% of science fiction movie fans are over the age of 60. It seems that the old prefer science fiction films more than the young."
   ]
  },
  {
   "cell_type": "code",
   "execution_count": 24,
   "metadata": {},
   "outputs": [
    {
     "data": {
      "text/plain": [
       "Text(0.5, 1.0, 'Characters popularity')"
      ]
     },
     "execution_count": 24,
     "metadata": {},
     "output_type": "execute_result"
    },
    {
     "data": {
      "image/png": "[encoded data removed]",
      "text/plain": [
       "<Figure size 576x360 with 1 Axes>"
      ]
     },
     "metadata": {
      "needs_background": "light"
     },
     "output_type": "display_data"
    }
   ],
   "source": [
    "characters = star_wars[star_wars.columns[15:29]]\n",
    "\n",
    "# create a function that converts the respondent's point of view towards a star wars character to a score ranging from -2 to 2.\n",
    "def update_val(val):\n",
    "    if val=='Very favorably':\n",
    "        return 2\n",
    "    elif val=='Somewhat favorably':\n",
    "        return 1\n",
    "    elif val in ['Neither favorably nor unfavorably (neutral)' , 'Unfamiliar (N/A)',np.nan]:\n",
    "        return 0\n",
    "    elif val == 'Very unfavorably':\n",
    "        return -2\n",
    "    elif val == 'Somewhat unfavorably':\n",
    "        return -1\n",
    "# apply the update_val element-wise on columns with position 15 to 28.    \n",
    "characters = characters.applymap(update_val)\n",
    "\n",
    "fig,ax = plt.subplots(figsize=[8,5])\n",
    "\n",
    "ax= characters.sum(axis=0).plot.barh()\n",
    "\n",
    "# remove spines\n",
    "for key,spine in ax.spines.items():\n",
    "    spine.set_visible(False) \n",
    "# remove x,y Ticks\n",
    "ax.yaxis.set_ticks_position('none')\n",
    "ax.xaxis.set_ticks_position('none')\n",
    "# set title\n",
    "ax.set_title('Characters popularity',size=12)"
   ]
  },
  {
   "cell_type": "markdown",
   "metadata": {},
   "source": [
    "'Yoda' and 'Han Solo' are the respondents' favourite characters, in contrast 'Jar Jar Binks' is the least popular among the characters."
   ]
  },
  {
   "cell_type": "code",
   "execution_count": 25,
   "metadata": {},
   "outputs": [
    {
     "data": {
      "image/png": "[encoded data removed]",
      "text/plain": [
       "<Figure size 864x360 with 1 Axes>"
      ]
     },
     "metadata": {
      "needs_background": "light"
     },
     "output_type": "display_data"
    }
   ],
   "source": [
    "# create a function that converts scores into likes, dislikes and neutral.\n",
    "def like_dislike(val):\n",
    "    if val > 0 :\n",
    "        return 'like'\n",
    "    elif val < 0 :\n",
    "        return 'dislike'\n",
    "    elif val == 0:\n",
    "        return 'neutral'\n",
    "# apply the like_dislike element-wise on columns with position 15 to 29.    \n",
    "characters = characters.applymap(like_dislike)\n",
    "\n",
    "# Unpivot the DataFrame characters from wide to long format\n",
    "melted = characters.melt()\n",
    "# excluding 'neutral' values\n",
    "melted = melted[melted['value']!='neutral']\n",
    "\n",
    "# Visualisation\n",
    "import matplotlib.pyplot as plt\n",
    "from matplotlib import colors\n",
    "\n",
    "fig,ax=plt.subplots(figsize=(12,5))\n",
    "\n",
    "# keeping only the 'like' value and group by characters\n",
    "like = melted[melted['value']=='like'].groupby('variable').size()\n",
    "# keeping only the 'dislike' value and group by characters\n",
    "dislike = melted[melted['value']=='dislike'].groupby('variable').size()\n",
    "# set the x axis ticks index\n",
    "ind = np.arange(1,15) \n",
    "# set the width of bars\n",
    "width = 0.35       \n",
    "\n",
    "like_bars = ax.bar(ind - width/2, like, width,label='like',color='blue')\n",
    "dislike_bars = ax.bar(ind + width/2 , dislike, width,label='dislike',color='orange')\n",
    "# set legend\n",
    "ax.legend(loc='upper left')\n",
    "# set x axis ticks labels\n",
    "ax.set_xticks(ind + width / 2)\n",
    "ax.set_xticklabels(like.index,rotation=90)\n",
    "# ax.set_title\n",
    "ax.set_title('The most controversial character in Star Wars')\n",
    "# remove spines\n",
    "for key,spine in ax.spines.items():\n",
    "    if key in ['top','right']:\n",
    "        spine.set_visible(False)  \n",
    "# remove x,y Ticks\n",
    "ax.yaxis.set_ticks_position('none')\n",
    "ax.xaxis.set_ticks_position('none')\n",
    "# ax.tick_params(axis='x', rotation=45)\n",
    "# make colors in the barplot stand out for 'Jar Jar Binks' and 'Emperor Palpatine'\n",
    "for charac in characters.columns:\n",
    "    if charac not in ['Jar Jar Binks','Emperor Palpatine']:\n",
    "        pos_dislike = dislike.index.get_loc(charac)\n",
    "        pos_like = dislike.index.get_loc(charac)        \n",
    "        like_bars.patches[pos_like].set_facecolor('#888888')\n",
    "        dislike_bars.patches[pos_dislike].set_facecolor('#888888')"
   ]
  },
  {
   "cell_type": "markdown",
   "metadata": {},
   "source": [
    "'Jar Jar Binks' is the most controversial character and is recognized as one of the most hated characters in Star Wars."
   ]
  },
  {
   "cell_type": "code",
   "execution_count": 26,
   "metadata": {},
   "outputs": [
    {
     "name": "stdout",
     "output_type": "stream",
     "text": [
      "Geographic Distribution of Star Wars Fans\n"
     ]
    },
    {
     "data": {
      "text/plain": [
       "South Atlantic        88\n",
       "Pacific               86\n",
       "East North Central    84\n",
       "Middle Atlantic       64\n",
       "West North Central    53\n",
       "West South Central    53\n",
       "Mountain              49\n",
       "New England           44\n",
       "East South Central    20\n",
       "Name: Location (Census Region), dtype: int64"
      ]
     },
     "execution_count": 26,
     "metadata": {},
     "output_type": "execute_result"
    }
   ],
   "source": [
    "fans = star_wars[star_wars[\"Do you consider yourself to be a fan of the Star Wars film franchise?\"] == True]\n",
    "fans = fans[fans[\"Location (Census Region)\"].notnull()]\n",
    "print('Geographic Distribution of Star Wars Fans')\n",
    "fans[\"Location (Census Region)\"].value_counts(dropna=False)"
   ]
  },
  {
   "cell_type": "code",
   "execution_count": 27,
   "metadata": {},
   "outputs": [
    {
     "name": "stdout",
     "output_type": "stream",
     "text": [
      "Interactive Location Map:\n"
     ]
    },
    {
     "data": {
      "application/vnd.plotly.v1+json": {
       "config": {
        "plotlyServerURL": "https://plot.ly"
       },
       "data": [
        {
         "colorbar": {
          "title": {
           "text": "Fans per state"
          }
         },
         "colorscale": [
          [
           0,
           "rgb(247,252,253)"
          ],
          [
           0.125,
           "rgb(229,245,249)"
          ],
          [
           0.25,
           "rgb(204,236,230)"
          ],
          [
           0.375,
           "rgb(153,216,201)"
          ],
          [
           0.5,
           "rgb(102,194,164)"
          ],
          [
           0.625,
           "rgb(65,174,118)"
          ],
          [
           0.75,
           "rgb(35,139,69)"
          ],
          [
           0.875,
           "rgb(0,109,44)"
          ],
          [
           1,
           "rgb(0,68,27)"
          ]
         ],
         "locationmode": "USA-states",
         "locations": [
          "DE",
          "MD",
          "VA",
          "WV",
          "NC",
          "SC",
          "GA",
          "FL",
          "DC",
          "AK",
          "CA",
          "HI",
          "OR",
          "WA",
          "IL",
          "IN",
          "MI",
          "OH",
          "WI",
          "NJ",
          "NY",
          "PA",
          "AR",
          "LA",
          "OK",
          "TX",
          "IA",
          "KS",
          "MN",
          "MO",
          "NE",
          "ND",
          "SD",
          "AZ",
          "CO",
          "ID",
          "MT",
          "NV",
          "NM",
          "UT",
          "WY",
          "ME",
          "VT",
          "NH",
          "MA",
          "CT",
          "RI",
          "AL",
          "KY",
          "MS",
          "TN"
         ],
         "type": "choropleth",
         "z": [
          10,
          10,
          10,
          10,
          10,
          10,
          10,
          10,
          10,
          17,
          17,
          17,
          17,
          17,
          17,
          17,
          17,
          17,
          17,
          21,
          21,
          21,
          13,
          13,
          13,
          13,
          8,
          8,
          8,
          8,
          8,
          8,
          8,
          6,
          6,
          6,
          6,
          6,
          6,
          6,
          6,
          7,
          7,
          7,
          7,
          7,
          7,
          5,
          5,
          5,
          5
         ]
        }
       ],
       "layout": {
        "geo": {
         "scope": "usa"
        },
        "template": {
         "data": {
          "bar": [
           {
            "error_x": {
             "color": "#2a3f5f"
            },
            "error_y": {
             "color": "#2a3f5f"
            },
            "marker": {
             "line": {
              "color": "#E5ECF6",
              "width": 0.5
             }
            },
            "type": "bar"
           }
          ],
          "barpolar": [
           {
            "marker": {
             "line": {
              "color": "#E5ECF6",
              "width": 0.5
             }
            },
            "type": "barpolar"
           }
          ],
          "carpet": [
           {
            "aaxis": {
             "endlinecolor": "#2a3f5f",
             "gridcolor": "white",
             "linecolor": "white",
             "minorgridcolor": "white",
             "startlinecolor": "#2a3f5f"
            },
            "baxis": {
             "endlinecolor": "#2a3f5f",
             "gridcolor": "white",
             "linecolor": "white",
             "minorgridcolor": "white",
             "startlinecolor": "#2a3f5f"
            },
            "type": "carpet"
           }
          ],
          "choropleth": [
           {
            "colorbar": {
             "outlinewidth": 0,
             "ticks": ""
            },
            "type": "choropleth"
           }
          ],
          "contour": [
           {
            "colorbar": {
             "outlinewidth": 0,
             "ticks": ""
            },
            "colorscale": [
             [
              0,
              "#0d0887"
             ],
             [
              0.1111111111111111,
              "#46039f"
             ],
             [
              0.2222222222222222,
              "#7201a8"
             ],
             [
              0.3333333333333333,
              "#9c179e"
             ],
             [
              0.4444444444444444,
              "#bd3786"
             ],
             [
              0.5555555555555556,
              "#d8576b"
             ],
             [
              0.6666666666666666,
              "#ed7953"
             ],
             [
              0.7777777777777778,
              "#fb9f3a"
             ],
             [
              0.8888888888888888,
              "#fdca26"
             ],
             [
              1,
              "#f0f921"
             ]
            ],
            "type": "contour"
           }
          ],
          "contourcarpet": [
           {
            "colorbar": {
             "outlinewidth": 0,
             "ticks": ""
            },
            "type": "contourcarpet"
           }
          ],
          "heatmap": [
           {
            "colorbar": {
             "outlinewidth": 0,
             "ticks": ""
            },
            "colorscale": [
             [
              0,
              "#0d0887"
             ],
             [
              0.1111111111111111,
              "#46039f"
             ],
             [
              0.2222222222222222,
              "#7201a8"
             ],
             [
              0.3333333333333333,
              "#9c179e"
             ],
             [
              0.4444444444444444,
              "#bd3786"
             ],
             [
              0.5555555555555556,
              "#d8576b"
             ],
             [
              0.6666666666666666,
              "#ed7953"
             ],
             [
              0.7777777777777778,
              "#fb9f3a"
             ],
             [
              0.8888888888888888,
              "#fdca26"
             ],
             [
              1,
              "#f0f921"
             ]
            ],
            "type": "heatmap"
           }
          ],
          "heatmapgl": [
           {
            "colorbar": {
             "outlinewidth": 0,
             "ticks": ""
            },
            "colorscale": [
             [
              0,
              "#0d0887"
             ],
             [
              0.1111111111111111,
              "#46039f"
             ],
             [
              0.2222222222222222,
              "#7201a8"
             ],
             [
              0.3333333333333333,
              "#9c179e"
             ],
             [
              0.4444444444444444,
              "#bd3786"
             ],
             [
              0.5555555555555556,
              "#d8576b"
             ],
             [
              0.6666666666666666,
              "#ed7953"
             ],
             [
              0.7777777777777778,
              "#fb9f3a"
             ],
             [
              0.8888888888888888,
              "#fdca26"
             ],
             [
              1,
              "#f0f921"
             ]
            ],
            "type": "heatmapgl"
           }
          ],
          "histogram": [
           {
            "marker": {
             "colorbar": {
              "outlinewidth": 0,
              "ticks": ""
             }
            },
            "type": "histogram"
           }
          ],
          "histogram2d": [
           {
            "colorbar": {
             "outlinewidth": 0,
             "ticks": ""
            },
            "colorscale": [
             [
              0,
              "#0d0887"
             ],
             [
              0.1111111111111111,
              "#46039f"
             ],
             [
              0.2222222222222222,
              "#7201a8"
             ],
             [
              0.3333333333333333,
              "#9c179e"
             ],
             [
              0.4444444444444444,
              "#bd3786"
             ],
             [
              0.5555555555555556,
              "#d8576b"
             ],
             [
              0.6666666666666666,
              "#ed7953"
             ],
             [
              0.7777777777777778,
              "#fb9f3a"
             ],
             [
              0.8888888888888888,
              "#fdca26"
             ],
             [
              1,
              "#f0f921"
             ]
            ],
            "type": "histogram2d"
           }
          ],
          "histogram2dcontour": [
           {
            "colorbar": {
             "outlinewidth": 0,
             "ticks": ""
            },
            "colorscale": [
             [
              0,
              "#0d0887"
             ],
             [
              0.1111111111111111,
              "#46039f"
             ],
             [
              0.2222222222222222,
              "#7201a8"
             ],
             [
              0.3333333333333333,
              "#9c179e"
             ],
             [
              0.4444444444444444,
              "#bd3786"
             ],
             [
              0.5555555555555556,
              "#d8576b"
             ],
             [
              0.6666666666666666,
              "#ed7953"
             ],
             [
              0.7777777777777778,
              "#fb9f3a"
             ],
             [
              0.8888888888888888,
              "#fdca26"
             ],
             [
              1,
              "#f0f921"
             ]
            ],
            "type": "histogram2dcontour"
           }
          ],
          "mesh3d": [
           {
            "colorbar": {
             "outlinewidth": 0,
             "ticks": ""
            },
            "type": "mesh3d"
           }
          ],
          "parcoords": [
           {
            "line": {
             "colorbar": {
              "outlinewidth": 0,
              "ticks": ""
             }
            },
            "type": "parcoords"
           }
          ],
          "pie": [
           {
            "automargin": true,
            "type": "pie"
           }
          ],
          "scatter": [
           {
            "marker": {
             "colorbar": {
              "outlinewidth": 0,
              "ticks": ""
             }
            },
            "type": "scatter"
           }
          ],
          "scatter3d": [
           {
            "line": {
             "colorbar": {
              "outlinewidth": 0,
              "ticks": ""
             }
            },
            "marker": {
             "colorbar": {
              "outlinewidth": 0,
              "ticks": ""
             }
            },
            "type": "scatter3d"
           }
          ],
          "scattercarpet": [
           {
            "marker": {
             "colorbar": {
              "outlinewidth": 0,
              "ticks": ""
             }
            },
            "type": "scattercarpet"
           }
          ],
          "scattergeo": [
           {
            "marker": {
             "colorbar": {
              "outlinewidth": 0,
              "ticks": ""
             }
            },
            "type": "scattergeo"
           }
          ],
          "scattergl": [
           {
            "marker": {
             "colorbar": {
              "outlinewidth": 0,
              "ticks": ""
             }
            },
            "type": "scattergl"
           }
          ],
          "scattermapbox": [
           {
            "marker": {
             "colorbar": {
              "outlinewidth": 0,
              "ticks": ""
             }
            },
            "type": "scattermapbox"
           }
          ],
          "scatterpolar": [
           {
            "marker": {
             "colorbar": {
              "outlinewidth": 0,
              "ticks": ""
             }
            },
            "type": "scatterpolar"
           }
          ],
          "scatterpolargl": [
           {
            "marker": {
             "colorbar": {
              "outlinewidth": 0,
              "ticks": ""
             }
            },
            "type": "scatterpolargl"
           }
          ],
          "scatterternary": [
           {
            "marker": {
             "colorbar": {
              "outlinewidth": 0,
              "ticks": ""
             }
            },
            "type": "scatterternary"
           }
          ],
          "surface": [
           {
            "colorbar": {
             "outlinewidth": 0,
             "ticks": ""
            },
            "colorscale": [
             [
              0,
              "#0d0887"
             ],
             [
              0.1111111111111111,
              "#46039f"
             ],
             [
              0.2222222222222222,
              "#7201a8"
             ],
             [
              0.3333333333333333,
              "#9c179e"
             ],
             [
              0.4444444444444444,
              "#bd3786"
             ],
             [
              0.5555555555555556,
              "#d8576b"
             ],
             [
              0.6666666666666666,
              "#ed7953"
             ],
             [
              0.7777777777777778,
              "#fb9f3a"
             ],
             [
              0.8888888888888888,
              "#fdca26"
             ],
             [
              1,
              "#f0f921"
             ]
            ],
            "type": "surface"
           }
          ],
          "table": [
           {
            "cells": {
             "fill": {
              "color": "#EBF0F8"
             },
             "line": {
              "color": "white"
             }
            },
            "header": {
             "fill": {
              "color": "#C8D4E3"
             },
             "line": {
              "color": "white"
             }
            },
            "type": "table"
           }
          ]
         },
         "layout": {
          "annotationdefaults": {
           "arrowcolor": "#2a3f5f",
           "arrowhead": 0,
           "arrowwidth": 1
          },
          "coloraxis": {
           "colorbar": {
            "outlinewidth": 0,
            "ticks": ""
           }
          },
          "colorscale": {
           "diverging": [
            [
             0,
             "#8e0152"
            ],
            [
             0.1,
             "#c51b7d"
            ],
            [
             0.2,
             "#de77ae"
            ],
            [
             0.3,
             "#f1b6da"
            ],
            [
             0.4,
             "#fde0ef"
            ],
            [
             0.5,
             "#f7f7f7"
            ],
            [
             0.6,
             "#e6f5d0"
            ],
            [
             0.7,
             "#b8e186"
            ],
            [
             0.8,
             "#7fbc41"
            ],
            [
             0.9,
             "#4d9221"
            ],
            [
             1,
             "#276419"
            ]
           ],
           "sequential": [
            [
             0,
             "#0d0887"
            ],
            [
             0.1111111111111111,
             "#46039f"
            ],
            [
             0.2222222222222222,
             "#7201a8"
            ],
            [
             0.3333333333333333,
             "#9c179e"
            ],
            [
             0.4444444444444444,
             "#bd3786"
            ],
            [
             0.5555555555555556,
             "#d8576b"
            ],
            [
             0.6666666666666666,
             "#ed7953"
            ],
            [
             0.7777777777777778,
             "#fb9f3a"
            ],
            [
             0.8888888888888888,
             "#fdca26"
            ],
            [
             1,
             "#f0f921"
            ]
           ],
           "sequentialminus": [
            [
             0,
             "#0d0887"
            ],
            [
             0.1111111111111111,
             "#46039f"
            ],
            [
             0.2222222222222222,
             "#7201a8"
            ],
            [
             0.3333333333333333,
             "#9c179e"
            ],
            [
             0.4444444444444444,
             "#bd3786"
            ],
            [
             0.5555555555555556,
             "#d8576b"
            ],
            [
             0.6666666666666666,
             "#ed7953"
            ],
            [
             0.7777777777777778,
             "#fb9f3a"
            ],
            [
             0.8888888888888888,
             "#fdca26"
            ],
            [
             1,
             "#f0f921"
            ]
           ]
          },
          "colorway": [
           "#636efa",
           "#EF553B",
           "#00cc96",
           "#ab63fa",
           "#FFA15A",
           "#19d3f3",
           "#FF6692",
           "#B6E880",
           "#FF97FF",
           "#FECB52"
          ],
          "font": {
           "color": "#2a3f5f"
          },
          "geo": {
           "bgcolor": "white",
           "lakecolor": "white",
           "landcolor": "#E5ECF6",
           "showlakes": true,
           "showland": true,
           "subunitcolor": "white"
          },
          "hoverlabel": {
           "align": "left"
          },
          "hovermode": "closest",
          "mapbox": {
           "style": "light"
          },
          "paper_bgcolor": "white",
          "plot_bgcolor": "#E5ECF6",
          "polar": {
           "angularaxis": {
            "gridcolor": "white",
            "linecolor": "white",
            "ticks": ""
           },
           "bgcolor": "#E5ECF6",
           "radialaxis": {
            "gridcolor": "white",
            "linecolor": "white",
            "ticks": ""
           }
          },
          "scene": {
           "xaxis": {
            "backgroundcolor": "#E5ECF6",
            "gridcolor": "white",
            "gridwidth": 2,
            "linecolor": "white",
            "showbackground": true,
            "ticks": "",
            "zerolinecolor": "white"
           },
           "yaxis": {
            "backgroundcolor": "#E5ECF6",
            "gridcolor": "white",
            "gridwidth": 2,
            "linecolor": "white",
            "showbackground": true,
            "ticks": "",
            "zerolinecolor": "white"
           },
           "zaxis": {
            "backgroundcolor": "#E5ECF6",
            "gridcolor": "white",
            "gridwidth": 2,
            "linecolor": "white",
            "showbackground": true,
            "ticks": "",
            "zerolinecolor": "white"
           }
          },
          "shapedefaults": {
           "line": {
            "color": "#2a3f5f"
           }
          },
          "ternary": {
           "aaxis": {
            "gridcolor": "white",
            "linecolor": "white",
            "ticks": ""
           },
           "baxis": {
            "gridcolor": "white",
            "linecolor": "white",
            "ticks": ""
           },
           "bgcolor": "#E5ECF6",
           "caxis": {
            "gridcolor": "white",
            "linecolor": "white",
            "ticks": ""
           }
          },
          "title": {
           "x": 0.05
          },
          "xaxis": {
           "automargin": true,
           "gridcolor": "white",
           "linecolor": "white",
           "ticks": "",
           "title": {
            "standoff": 15
           },
           "zerolinecolor": "white",
           "zerolinewidth": 2
          },
          "yaxis": {
           "automargin": true,
           "gridcolor": "white",
           "linecolor": "white",
           "ticks": "",
           "title": {
            "standoff": 15
           },
           "zerolinecolor": "white",
           "zerolinewidth": 2
          }
         }
        },
        "title": {
         "text": "Distribution of Star Wars Fans by States on Average"
        }
       }
      },
      "text/html": [
       "<div>                            <div id=\"91fdeac3-e9bd-4d99-90f0-5bd154b11e2e\" class=\"plotly-graph-div\" style=\"height:525px; width:100%;\"></div>            <script type=\"text/javascript\">                require([\"plotly\"], function(Plotly) {                    window.PLOTLYENV=window.PLOTLYENV || {};                                    if (document.getElementById(\"91fdeac3-e9bd-4d99-90f0-5bd154b11e2e\")) {                    Plotly.newPlot(                        \"91fdeac3-e9bd-4d99-90f0-5bd154b11e2e\",                        [{\"colorbar\": {\"title\": {\"text\": \"Fans per state\"}}, \"colorscale\": [[0.0, \"rgb(247,252,253)\"], [0.125, \"rgb(229,245,249)\"], [0.25, \"rgb(204,236,230)\"], [0.375, \"rgb(153,216,201)\"], [0.5, \"rgb(102,194,164)\"], [0.625, \"rgb(65,174,118)\"], [0.75, \"rgb(35,139,69)\"], [0.875, \"rgb(0,109,44)\"], [1.0, \"rgb(0,68,27)\"]], \"locationmode\": \"USA-states\", \"locations\": [\"DE\", \"MD\", \"VA\", \"WV\", \"NC\", \"SC\", \"GA\", \"FL\", \"DC\", \"AK\", \"CA\", \"HI\", \"OR\", \"WA\", \"IL\", \"IN\", \"MI\", \"OH\", \"WI\", \"NJ\", \"NY\", \"PA\", \"AR\", \"LA\", \"OK\", \"TX\", \"IA\", \"KS\", \"MN\", \"MO\", \"NE\", \"ND\", \"SD\", \"AZ\", \"CO\", \"ID\", \"MT\", \"NV\", \"NM\", \"UT\", \"WY\", \"ME\", \"VT\", \"NH\", \"MA\", \"CT\", \"RI\", \"AL\", \"KY\", \"MS\", \"TN\"], \"type\": \"choropleth\", \"z\": [10, 10, 10, 10, 10, 10, 10, 10, 10, 17, 17, 17, 17, 17, 17, 17, 17, 17, 17, 21, 21, 21, 13, 13, 13, 13, 8, 8, 8, 8, 8, 8, 8, 6, 6, 6, 6, 6, 6, 6, 6, 7, 7, 7, 7, 7, 7, 5, 5, 5, 5]}],                        {\"geo\": {\"scope\": \"usa\"}, \"template\": {\"data\": {\"bar\": [{\"error_x\": {\"color\": \"#2a3f5f\"}, \"error_y\": {\"color\": \"#2a3f5f\"}, \"marker\": {\"line\": {\"color\": \"#E5ECF6\", \"width\": 0.5}}, \"type\": \"bar\"}], \"barpolar\": [{\"marker\": {\"line\": {\"color\": \"#E5ECF6\", \"width\": 0.5}}, \"type\": \"barpolar\"}], \"carpet\": [{\"aaxis\": {\"endlinecolor\": \"#2a3f5f\", \"gridcolor\": \"white\", \"linecolor\": \"white\", \"minorgridcolor\": \"white\", \"startlinecolor\": \"#2a3f5f\"}, \"baxis\": {\"endlinecolor\": \"#2a3f5f\", \"gridcolor\": \"white\", \"linecolor\": \"white\", \"minorgridcolor\": \"white\", \"startlinecolor\": \"#2a3f5f\"}, \"type\": \"carpet\"}], \"choropleth\": [{\"colorbar\": {\"outlinewidth\": 0, \"ticks\": \"\"}, \"type\": \"choropleth\"}], \"contour\": [{\"colorbar\": {\"outlinewidth\": 0, \"ticks\": \"\"}, \"colorscale\": [[0.0, \"#0d0887\"], [0.1111111111111111, \"#46039f\"], [0.2222222222222222, \"#7201a8\"], [0.3333333333333333, \"#9c179e\"], [0.4444444444444444, \"#bd3786\"], [0.5555555555555556, \"#d8576b\"], [0.6666666666666666, \"#ed7953\"], [0.7777777777777778, \"#fb9f3a\"], [0.8888888888888888, \"#fdca26\"], [1.0, \"#f0f921\"]], \"type\": \"contour\"}], \"contourcarpet\": [{\"colorbar\": {\"outlinewidth\": 0, \"ticks\": \"\"}, \"type\": \"contourcarpet\"}], \"heatmap\": [{\"colorbar\": {\"outlinewidth\": 0, \"ticks\": \"\"}, \"colorscale\": [[0.0, \"#0d0887\"], [0.1111111111111111, \"#46039f\"], [0.2222222222222222, \"#7201a8\"], [0.3333333333333333, \"#9c179e\"], [0.4444444444444444, \"#bd3786\"], [0.5555555555555556, \"#d8576b\"], [0.6666666666666666, \"#ed7953\"], [0.7777777777777778, \"#fb9f3a\"], [0.8888888888888888, \"#fdca26\"], [1.0, \"#f0f921\"]], \"type\": \"heatmap\"}], \"heatmapgl\": [{\"colorbar\": {\"outlinewidth\": 0, \"ticks\": \"\"}, \"colorscale\": [[0.0, \"#0d0887\"], [0.1111111111111111, \"#46039f\"], [0.2222222222222222, \"#7201a8\"], [0.3333333333333333, \"#9c179e\"], [0.4444444444444444, \"#bd3786\"], [0.5555555555555556, \"#d8576b\"], [0.6666666666666666, \"#ed7953\"], [0.7777777777777778, \"#fb9f3a\"], [0.8888888888888888, \"#fdca26\"], [1.0, \"#f0f921\"]], \"type\": \"heatmapgl\"}], \"histogram\": [{\"marker\": {\"colorbar\": {\"outlinewidth\": 0, \"ticks\": \"\"}}, \"type\": \"histogram\"}], \"histogram2d\": [{\"colorbar\": {\"outlinewidth\": 0, \"ticks\": \"\"}, \"colorscale\": [[0.0, \"#0d0887\"], [0.1111111111111111, \"#46039f\"], [0.2222222222222222, \"#7201a8\"], [0.3333333333333333, \"#9c179e\"], [0.4444444444444444, \"#bd3786\"], [0.5555555555555556, \"#d8576b\"], [0.6666666666666666, \"#ed7953\"], [0.7777777777777778, \"#fb9f3a\"], [0.8888888888888888, \"#fdca26\"], [1.0, \"#f0f921\"]], \"type\": \"histogram2d\"}], \"histogram2dcontour\": [{\"colorbar\": {\"outlinewidth\": 0, \"ticks\": \"\"}, \"colorscale\": [[0.0, \"#0d0887\"], [0.1111111111111111, \"#46039f\"], [0.2222222222222222, \"#7201a8\"], [0.3333333333333333, \"#9c179e\"], [0.4444444444444444, \"#bd3786\"], [0.5555555555555556, \"#d8576b\"], [0.6666666666666666, \"#ed7953\"], [0.7777777777777778, \"#fb9f3a\"], [0.8888888888888888, \"#fdca26\"], [1.0, \"#f0f921\"]], \"type\": \"histogram2dcontour\"}], \"mesh3d\": [{\"colorbar\": {\"outlinewidth\": 0, \"ticks\": \"\"}, \"type\": \"mesh3d\"}], \"parcoords\": [{\"line\": {\"colorbar\": {\"outlinewidth\": 0, \"ticks\": \"\"}}, \"type\": \"parcoords\"}], \"pie\": [{\"automargin\": true, \"type\": \"pie\"}], \"scatter\": [{\"marker\": {\"colorbar\": {\"outlinewidth\": 0, \"ticks\": \"\"}}, \"type\": \"scatter\"}], \"scatter3d\": [{\"line\": {\"colorbar\": {\"outlinewidth\": 0, \"ticks\": \"\"}}, \"marker\": {\"colorbar\": {\"outlinewidth\": 0, \"ticks\": \"\"}}, \"type\": \"scatter3d\"}], \"scattercarpet\": [{\"marker\": {\"colorbar\": {\"outlinewidth\": 0, \"ticks\": \"\"}}, \"type\": \"scattercarpet\"}], \"scattergeo\": [{\"marker\": {\"colorbar\": {\"outlinewidth\": 0, \"ticks\": \"\"}}, \"type\": \"scattergeo\"}], \"scattergl\": [{\"marker\": {\"colorbar\": {\"outlinewidth\": 0, \"ticks\": \"\"}}, \"type\": \"scattergl\"}], \"scattermapbox\": [{\"marker\": {\"colorbar\": {\"outlinewidth\": 0, \"ticks\": \"\"}}, \"type\": \"scattermapbox\"}], \"scatterpolar\": [{\"marker\": {\"colorbar\": {\"outlinewidth\": 0, \"ticks\": \"\"}}, \"type\": \"scatterpolar\"}], \"scatterpolargl\": [{\"marker\": {\"colorbar\": {\"outlinewidth\": 0, \"ticks\": \"\"}}, \"type\": \"scatterpolargl\"}], \"scatterternary\": [{\"marker\": {\"colorbar\": {\"outlinewidth\": 0, \"ticks\": \"\"}}, \"type\": \"scatterternary\"}], \"surface\": [{\"colorbar\": {\"outlinewidth\": 0, \"ticks\": \"\"}, \"colorscale\": [[0.0, \"#0d0887\"], [0.1111111111111111, \"#46039f\"], [0.2222222222222222, \"#7201a8\"], [0.3333333333333333, \"#9c179e\"], [0.4444444444444444, \"#bd3786\"], [0.5555555555555556, \"#d8576b\"], [0.6666666666666666, \"#ed7953\"], [0.7777777777777778, \"#fb9f3a\"], [0.8888888888888888, \"#fdca26\"], [1.0, \"#f0f921\"]], \"type\": \"surface\"}], \"table\": [{\"cells\": {\"fill\": {\"color\": \"#EBF0F8\"}, \"line\": {\"color\": \"white\"}}, \"header\": {\"fill\": {\"color\": \"#C8D4E3\"}, \"line\": {\"color\": \"white\"}}, \"type\": \"table\"}]}, \"layout\": {\"annotationdefaults\": {\"arrowcolor\": \"#2a3f5f\", \"arrowhead\": 0, \"arrowwidth\": 1}, \"coloraxis\": {\"colorbar\": {\"outlinewidth\": 0, \"ticks\": \"\"}}, \"colorscale\": {\"diverging\": [[0, \"#8e0152\"], [0.1, \"#c51b7d\"], [0.2, \"#de77ae\"], [0.3, \"#f1b6da\"], [0.4, \"#fde0ef\"], [0.5, \"#f7f7f7\"], [0.6, \"#e6f5d0\"], [0.7, \"#b8e186\"], [0.8, \"#7fbc41\"], [0.9, \"#4d9221\"], [1, \"#276419\"]], \"sequential\": [[0.0, \"#0d0887\"], [0.1111111111111111, \"#46039f\"], [0.2222222222222222, \"#7201a8\"], [0.3333333333333333, \"#9c179e\"], [0.4444444444444444, \"#bd3786\"], [0.5555555555555556, \"#d8576b\"], [0.6666666666666666, \"#ed7953\"], [0.7777777777777778, \"#fb9f3a\"], [0.8888888888888888, \"#fdca26\"], [1.0, \"#f0f921\"]], \"sequentialminus\": [[0.0, \"#0d0887\"], [0.1111111111111111, \"#46039f\"], [0.2222222222222222, \"#7201a8\"], [0.3333333333333333, \"#9c179e\"], [0.4444444444444444, \"#bd3786\"], [0.5555555555555556, \"#d8576b\"], [0.6666666666666666, \"#ed7953\"], [0.7777777777777778, \"#fb9f3a\"], [0.8888888888888888, \"#fdca26\"], [1.0, \"#f0f921\"]]}, \"colorway\": [\"#636efa\", \"#EF553B\", \"#00cc96\", \"#ab63fa\", \"#FFA15A\", \"#19d3f3\", \"#FF6692\", \"#B6E880\", \"#FF97FF\", \"#FECB52\"], \"font\": {\"color\": \"#2a3f5f\"}, \"geo\": {\"bgcolor\": \"white\", \"lakecolor\": \"white\", \"landcolor\": \"#E5ECF6\", \"showlakes\": true, \"showland\": true, \"subunitcolor\": \"white\"}, \"hoverlabel\": {\"align\": \"left\"}, \"hovermode\": \"closest\", \"mapbox\": {\"style\": \"light\"}, \"paper_bgcolor\": \"white\", \"plot_bgcolor\": \"#E5ECF6\", \"polar\": {\"angularaxis\": {\"gridcolor\": \"white\", \"linecolor\": \"white\", \"ticks\": \"\"}, \"bgcolor\": \"#E5ECF6\", \"radialaxis\": {\"gridcolor\": \"white\", \"linecolor\": \"white\", \"ticks\": \"\"}}, \"scene\": {\"xaxis\": {\"backgroundcolor\": \"#E5ECF6\", \"gridcolor\": \"white\", \"gridwidth\": 2, \"linecolor\": \"white\", \"showbackground\": true, \"ticks\": \"\", \"zerolinecolor\": \"white\"}, \"yaxis\": {\"backgroundcolor\": \"#E5ECF6\", \"gridcolor\": \"white\", \"gridwidth\": 2, \"linecolor\": \"white\", \"showbackground\": true, \"ticks\": \"\", \"zerolinecolor\": \"white\"}, \"zaxis\": {\"backgroundcolor\": \"#E5ECF6\", \"gridcolor\": \"white\", \"gridwidth\": 2, \"linecolor\": \"white\", \"showbackground\": true, \"ticks\": \"\", \"zerolinecolor\": \"white\"}}, \"shapedefaults\": {\"line\": {\"color\": \"#2a3f5f\"}}, \"ternary\": {\"aaxis\": {\"gridcolor\": \"white\", \"linecolor\": \"white\", \"ticks\": \"\"}, \"baxis\": {\"gridcolor\": \"white\", \"linecolor\": \"white\", \"ticks\": \"\"}, \"bgcolor\": \"#E5ECF6\", \"caxis\": {\"gridcolor\": \"white\", \"linecolor\": \"white\", \"ticks\": \"\"}}, \"title\": {\"x\": 0.05}, \"xaxis\": {\"automargin\": true, \"gridcolor\": \"white\", \"linecolor\": \"white\", \"ticks\": \"\", \"title\": {\"standoff\": 15}, \"zerolinecolor\": \"white\", \"zerolinewidth\": 2}, \"yaxis\": {\"automargin\": true, \"gridcolor\": \"white\", \"linecolor\": \"white\", \"ticks\": \"\", \"title\": {\"standoff\": 15}, \"zerolinecolor\": \"white\", \"zerolinewidth\": 2}}}, \"title\": {\"text\": \"Distribution of Star Wars Fans by States on Average\"}},                        {\"responsive\": true}                    ).then(function(){\n",
       "                            \n",
       "var gd = document.getElementById('91fdeac3-e9bd-4d99-90f0-5bd154b11e2e');\n",
       "var x = new MutationObserver(function (mutations, observer) {{\n",
       "        var display = window.getComputedStyle(gd).display;\n",
       "        if (!display || display === 'none') {{\n",
       "            console.log([gd, 'removed!']);\n",
       "            Plotly.purge(gd);\n",
       "            observer.disconnect();\n",
       "        }}\n",
       "}});\n",
       "\n",
       "// Listen for the removal of the full notebook cells\n",
       "var notebookContainer = gd.closest('#notebook-container');\n",
       "if (notebookContainer) {{\n",
       "    x.observe(notebookContainer, {childList: true});\n",
       "}}\n",
       "\n",
       "// Listen for the clearing of the current output cell\n",
       "var outputEl = gd.closest('.output');\n",
       "if (outputEl) {{\n",
       "    x.observe(outputEl, {childList: true});\n",
       "}}\n",
       "\n",
       "                        })                };                });            </script>        </div>"
      ]
     },
     "metadata": {},
     "output_type": "display_data"
    }
   ],
   "source": [
    "regions = { \"sa_states\" : [\"DE\", \"MD\", \"VA\", \"WV\", \"NC\", \"SC\", \"GA\", \"FL\", \"DC\"],\n",
    "            \"pacific\" : [\"AK\", \"CA\", \"HI\", \"OR\", \"WA\"],\n",
    "            \"enc\" : [\"IL\", \"IN\", \"MI\", \"OH\", \"WI\"],\n",
    "            \"mid_atl\" : [\"NJ\", \"NY\", \"PA\"],\n",
    "            \"wsc\" : [\"AR\", \"LA\", \"OK\", \"TX\"],\n",
    "            \"wnc\" : [\"IA\", \"KS\", \"MN\", \"MO\", \"NE\", \"ND\", \"SD\"],\n",
    "            \"mountain\" : [\"AZ\", \"CO\", \"ID\", \"MT\", \"NV\", \"NM\", \"UT\", \"WY\"],\n",
    "            \"ne\" : [\"ME\", \"VT\", \"NH\", \"MA\", \"CT\", \"RI\"],\n",
    "            \"esc\" : [\"AL\", \"KY\", \"MS\", \"TN\"],\n",
    "          }\n",
    "\n",
    "states = {}\n",
    "\n",
    "def state_calc():\n",
    "    for region in regions:\n",
    "        if region == \"sa_states\":\n",
    "            for state in regions[region]:\n",
    "                states[state] = round(88 / len(regions[region]))\n",
    "        elif region == \"pacific\":\n",
    "            for state in regions[region]:\n",
    "                states[state] = round(86 / len(regions[region]))\n",
    "        elif region == \"enc\":\n",
    "            for state in regions[region]:\n",
    "                states[state] = round(84 / len(regions[region]))\n",
    "        elif region == \"mid_atl\":\n",
    "            for state in regions[region]:\n",
    "                states[state] = round(64 / len(regions[region]))\n",
    "        elif region == \"wsc\":\n",
    "            for state in regions[region]:\n",
    "                states[state] = round(53 / len(regions[region]))\n",
    "        elif region == \"wnc\":\n",
    "            for state in regions[region]:\n",
    "                states[state] = round(53 / len(regions[region]))\n",
    "        elif region == \"mountain\":\n",
    "            for state in regions[region]:\n",
    "                states[state] = round(49 / len(regions[region]))\n",
    "        elif region == \"ne\":\n",
    "            for state in regions[region]:\n",
    "                states[state] = round(44 / len(regions[region]))\n",
    "        elif region == \"esc\":\n",
    "            for state in regions[region]:\n",
    "                states[state] = round(20 / len(regions[region]))\n",
    "                \n",
    "state_calc()\n",
    "\n",
    "df = pd.DataFrame.from_dict(states, orient=\"index\", columns=[\"fans\"])\n",
    "df.reset_index(inplace=True)\n",
    "df.rename({\"index\": \"code\"}, axis=1, inplace=True)\n",
    "\n",
    "fig = go.Figure(data = go.Choropleth(\n",
    "                                    locations = df[\"code\"],\n",
    "                                    z = df['fans'],\n",
    "                                    locationmode = 'USA-states',\n",
    "                                    colorscale = 'Bugn',\n",
    "                                    colorbar_title = \"Fans per state\",\n",
    "                                    )\n",
    "               )\n",
    "\n",
    "fig.update_layout(\n",
    "                    title_text = 'Distribution of Star Wars Fans by States on Average',\n",
    "                    geo_scope='usa'\n",
    "                 )\n",
    "fig.write_html(\"interactive_map.html\")\n",
    "print('Interactive Location Map:')\n",
    "fig.show()"
   ]
  },
  {
   "cell_type": "markdown",
   "metadata": {},
   "source": [
    "## Conclusion:\n",
    "* In general, fans seem to prefer the original trilogy of the cinematic saga Star Wars which consists of \"A New Hope (1977)\", \"The Empire Strikes Back (1980)\" and \"Return of the Jedi (1983)\" more than the rest of the collection. \n",
    "* \"Star Wars: Episode V The Empire Strikes Back\" is considered by the respondents to be the best film in the saga hence it makes it the most seen Star Wars movie by the fans.\n",
    "* Men rated the three original movies at the top of their favourite Star Wars films while only two of the original movies were highly rated by women, they considered \"Episode I: The Phantom Menace 1999\" more popular than \"Episode IV: A New Hope 1977\".\n",
    "* 95% of the Star Wars fans who respond to the survey have more than a high school degree. \n",
    "* It seems that the old prefer science fiction films more than the young.\n",
    "* 'Yoda' and 'Han Solo' are the respondents' favourite characters, in contrast 'Jar Jar Binks' is the least popular among the characters.\n",
    "* Jar Jar Binks' is the most controversial character and is recognized as one of the most hated characters in Star Wars.\n",
    "* Most of the Star Wars fans who responded to the survey are located in the South Atlantic states, the East North Central, the Pacific and the Middle Atlantic."
   ]
  }
 ],
 "metadata": {
  "kernelspec": {
   "display_name": "Python 3",
   "language": "python",
   "name": "python3"
  },
  "language_info": {
   "codemirror_mode": {
    "name": "ipython",
    "version": 3
   },
   "file_extension": ".py",
   "mimetype": "text/x-python",
   "name": "python",
   "nbconvert_exporter": "python",
   "pygments_lexer": "ipython3",
   "version": "3.7.7"
  }
 },
 "nbformat": 4,
 "nbformat_minor": 4
}
