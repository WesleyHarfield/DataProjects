{
 "cells": [
  {
   "cell_type": "markdown",
   "metadata": {},
   "source": [
    "## Dataset and Problem Introduction\n",
    "\n",
    "In this analysis, we explore the [S&P500 Index](https://en.wikipedia.org/wiki/S%26P_500_Index) by using historical data (from 1950 to 2015) on the price of the Index to make predictions about future prices. We develop a linear regression model that is trained with data from 1950-2012, and makes predictions on 2013-2015.\n",
    "\n",
    "Data Source: https://finance.yahoo.com/quote/%5EGSPC/history/\n",
    "<br>Reference: https://dataquest.io/"
   ]
  },
  {
   "cell_type": "markdown",
   "metadata": {},
   "source": [
    "## Data\n",
    "The columns of the dataset are:\n",
    "- **Date** - The date of the record.\n",
    "- **Open** - The opening price of the day (when trading starts).\n",
    "- **High** - The highest trade price during the day.\n",
    "- **Low** - The lowest trade price during the day.\n",
    "- **Close** - The closing price for the day (when trading is finished).\n",
    "- **Volume** - The number of shares traded.\n",
    "- **Adj Close** - The daily closing price, adjusted retroactively to include any corporate actions.\n",
    "\n",
    "The target column for the prediction is the **Close** column."
   ]
  },
  {
   "cell_type": "code",
   "execution_count": 1,
   "metadata": {},
   "outputs": [
    {
     "data": {
      "text/html": [
       "<div>\n",
       "<style scoped>\n",
       "    .dataframe tbody tr th:only-of-type {\n",
       "        vertical-align: middle;\n",
       "    }\n",
       "\n",
       "    .dataframe tbody tr th {\n",
       "        vertical-align: top;\n",
       "    }\n",
       "\n",
       "    .dataframe thead th {\n",
       "        text-align: right;\n",
       "    }\n",
       "</style>\n",
       "<table border=\"1\" class=\"dataframe\">\n",
       "  <thead>\n",
       "    <tr style=\"text-align: right;\">\n",
       "      <th></th>\n",
       "      <th>Date</th>\n",
       "      <th>Open</th>\n",
       "      <th>High</th>\n",
       "      <th>Low</th>\n",
       "      <th>Close</th>\n",
       "      <th>Volume</th>\n",
       "      <th>Adj Close</th>\n",
       "    </tr>\n",
       "  </thead>\n",
       "  <tbody>\n",
       "    <tr>\n",
       "      <th>16589</th>\n",
       "      <td>1950-01-03</td>\n",
       "      <td>16.66</td>\n",
       "      <td>16.66</td>\n",
       "      <td>16.66</td>\n",
       "      <td>16.66</td>\n",
       "      <td>1260000.0</td>\n",
       "      <td>16.66</td>\n",
       "    </tr>\n",
       "    <tr>\n",
       "      <th>16588</th>\n",
       "      <td>1950-01-04</td>\n",
       "      <td>16.85</td>\n",
       "      <td>16.85</td>\n",
       "      <td>16.85</td>\n",
       "      <td>16.85</td>\n",
       "      <td>1890000.0</td>\n",
       "      <td>16.85</td>\n",
       "    </tr>\n",
       "    <tr>\n",
       "      <th>16587</th>\n",
       "      <td>1950-01-05</td>\n",
       "      <td>16.93</td>\n",
       "      <td>16.93</td>\n",
       "      <td>16.93</td>\n",
       "      <td>16.93</td>\n",
       "      <td>2550000.0</td>\n",
       "      <td>16.93</td>\n",
       "    </tr>\n",
       "    <tr>\n",
       "      <th>16586</th>\n",
       "      <td>1950-01-06</td>\n",
       "      <td>16.98</td>\n",
       "      <td>16.98</td>\n",
       "      <td>16.98</td>\n",
       "      <td>16.98</td>\n",
       "      <td>2010000.0</td>\n",
       "      <td>16.98</td>\n",
       "    </tr>\n",
       "    <tr>\n",
       "      <th>16585</th>\n",
       "      <td>1950-01-09</td>\n",
       "      <td>17.08</td>\n",
       "      <td>17.08</td>\n",
       "      <td>17.08</td>\n",
       "      <td>17.08</td>\n",
       "      <td>2520000.0</td>\n",
       "      <td>17.08</td>\n",
       "    </tr>\n",
       "  </tbody>\n",
       "</table>\n",
       "</div>"
      ],
      "text/plain": [
       "            Date   Open   High    Low  Close     Volume  Adj Close\n",
       "16589 1950-01-03  16.66  16.66  16.66  16.66  1260000.0      16.66\n",
       "16588 1950-01-04  16.85  16.85  16.85  16.85  1890000.0      16.85\n",
       "16587 1950-01-05  16.93  16.93  16.93  16.93  2550000.0      16.93\n",
       "16586 1950-01-06  16.98  16.98  16.98  16.98  2010000.0      16.98\n",
       "16585 1950-01-09  17.08  17.08  17.08  17.08  2520000.0      17.08"
      ]
     },
     "execution_count": 1,
     "metadata": {},
     "output_type": "execute_result"
    }
   ],
   "source": [
    "import numpy as np\n",
    "import pandas as pd\n",
    "from datetime import datetime\n",
    "from sklearn.linear_model import LinearRegression\n",
    "from sklearn.metrics import mean_squared_error\n",
    "\n",
    "df = pd.read_csv('datasets/sphist.csv')\n",
    "df[\"Date\"] = pd.to_datetime(df[\"Date\"])\n",
    "df = df.sort_values('Date', ascending = True)\n",
    "df.head(5)"
   ]
  },
  {
   "cell_type": "markdown",
   "metadata": {},
   "source": [
    "## Data Manipulation\n",
    "We add three indicators to the dataset:\n",
    "- The average price for the past **5** days.\n",
    "- The average price for the past **30** days.\n",
    "- The average price for the past **365** days."
   ]
  },
  {
   "cell_type": "code",
   "execution_count": 2,
   "metadata": {},
   "outputs": [
    {
     "name": "stdout",
     "output_type": "stream",
     "text": [
      "head:\n",
      "         Date       Open       High        Low      Close     Volume  \\\n",
      "0 1950-01-03  16.660000  16.660000  16.660000  16.660000  1260000.0   \n",
      "1 1950-01-04  16.850000  16.850000  16.850000  16.850000  1890000.0   \n",
      "2 1950-01-05  16.930000  16.930000  16.930000  16.930000  2550000.0   \n",
      "3 1950-01-06  16.980000  16.980000  16.980000  16.980000  2010000.0   \n",
      "4 1950-01-09  17.080000  17.080000  17.080000  17.080000  2520000.0   \n",
      "5 1950-01-10  17.030001  17.030001  17.030001  17.030001  2160000.0   \n",
      "6 1950-01-11  17.090000  17.090000  17.090000  17.090000  2630000.0   \n",
      "\n",
      "   Adj Close  mean_close_5  mean_close_30  mean_close_365  \n",
      "0  16.660000           NaN            NaN             NaN  \n",
      "1  16.850000           NaN            NaN             NaN  \n",
      "2  16.930000           NaN            NaN             NaN  \n",
      "3  16.980000           NaN            NaN             NaN  \n",
      "4  17.080000           NaN            NaN             NaN  \n",
      "5  17.030001        16.900            NaN             NaN  \n",
      "6  17.090000        16.974            NaN             NaN  \n",
      "tail:\n",
      "             Date         Open         High          Low        Close  \\\n",
      "16585 2015-12-01  2082.929932  2103.370117  2082.929932  2102.629883   \n",
      "16586 2015-12-02  2101.709961  2104.270020  2077.110107  2079.510010   \n",
      "16587 2015-12-03  2080.709961  2085.000000  2042.349976  2049.620117   \n",
      "16588 2015-12-04  2051.239990  2093.840088  2051.239990  2091.689941   \n",
      "16589 2015-12-07  2090.419922  2090.419922  2066.780029  2077.070068   \n",
      "\n",
      "             Volume    Adj Close  mean_close_5  mean_close_30  mean_close_365  \n",
      "16585  3.712120e+09  2102.629883   2087.024023    2073.984998     2035.531178  \n",
      "16586  3.950640e+09  2079.510010   2090.231982    2076.283993     2035.914082  \n",
      "16587  4.306490e+09  2049.620117   2088.306006    2077.908659     2036.234356  \n",
      "16588  4.214910e+09  2091.689941   2080.456006    2078.931331     2036.507343  \n",
      "16589  4.043820e+09  2077.070068   2080.771973    2080.237329     2036.869425  \n"
     ]
    }
   ],
   "source": [
    "def add_mean_indicator_col(df, num_days, indicator_name, col, function):\n",
    "    #Make a series of Close price with the dates as indexes\n",
    "    s = pd.Series(np.array(df[col]), index=np.array(df[\"Date\"]))\n",
    "    #calculate the mean price of past days\n",
    "    means = s.rolling(window = num_days).apply(function)\n",
    "    \n",
    "    #Shift indices to exclude the price of each day from the mean value\n",
    "    means = means.shift()\n",
    "    \n",
    "    #convert indices to Date Column\n",
    "    means = means.reset_index()\n",
    "    means = means.rename(columns={'index':'Date', 0:indicator_name})\n",
    "    \n",
    "    df_new = df.merge(means, left_on='Date', right_on='Date')\n",
    "    return df_new\n",
    "\n",
    "df = add_mean_indicator_col(df, 5, 'mean_close_5', 'Close', np.mean)\n",
    "df = add_mean_indicator_col(df, 30, 'mean_close_30', 'Close', np.mean)\n",
    "df = add_mean_indicator_col(df, 365, 'mean_close_365', 'Close', np.mean)\n",
    "print('head:\\n', df.head(7))\n",
    "print('tail:\\n', df.tail(5))"
   ]
  },
  {
   "cell_type": "markdown",
   "metadata": {},
   "source": [
    "Since we are computing indicators that use historical data, there are some rows where there isn't enough historical data to generate them. There is an indicator that uses 365 days of historical data, and the dataset starts on 1950-01-03 - so we remove the data from before 1951-01-03."
   ]
  },
  {
   "cell_type": "code",
   "execution_count": 3,
   "metadata": {},
   "outputs": [
    {
     "data": {
      "text/plain": [
       "Date              0\n",
       "Open              0\n",
       "High              0\n",
       "Low               0\n",
       "Close             0\n",
       "Volume            0\n",
       "Adj Close         0\n",
       "mean_close_5      0\n",
       "mean_close_30     0\n",
       "mean_close_365    0\n",
       "dtype: int64"
      ]
     },
     "execution_count": 3,
     "metadata": {},
     "output_type": "execute_result"
    }
   ],
   "source": [
    "#Remove the data before 1951-01-03\n",
    "df_updated = df[df[\"Date\"] > datetime(year=1951, month=1, day=2)]\n",
    "\n",
    "# Drop all rows containing null values\n",
    "df_clean = df_updated.dropna(axis = 0)\n",
    "df_clean.isnull().sum()"
   ]
  },
  {
   "cell_type": "markdown",
   "metadata": {},
   "source": [
    "## Train and Test \n",
    "We generate two new data frames to use in the algorithm.\n",
    "- **train** contains any rows in the data with a date less than 2013-01-01. \n",
    "- **test** contains any rows with a date greater than or equal to 2013-01-01\n",
    "\n",
    "A **linear regression model** is then used to train the train dataset and predict the test dataset. The **root of mean squared error (RMSE)** is calculated to represent the forecast error."
   ]
  },
  {
   "cell_type": "code",
   "execution_count": 4,
   "metadata": {},
   "outputs": [],
   "source": [
    "def train_test(df, features):\n",
    "    train  = df[df[\"Date\"] < datetime(year=2013, month=1, day=1)]\n",
    "    test = df[df[\"Date\"] >= datetime(year=2013, month=1, day=1)]\n",
    "    #initialize model\n",
    "    lr = LinearRegression()\n",
    "    target = 'Close'\n",
    "\n",
    "    #Train\n",
    "    lr.fit(train[features], train[target])\n",
    "\n",
    "    #Test\n",
    "    predictions = lr.predict(test[features])\n",
    "\n",
    "    #Calculate error\n",
    "    mse = mean_squared_error(test[target], predictions)\n",
    "    rmse = np.sqrt(mse)\n",
    "    return rmse"
   ]
  },
  {
   "cell_type": "code",
   "execution_count": 5,
   "metadata": {},
   "outputs": [
    {
     "data": {
      "text/plain": [
       "22.220065324219927"
      ]
     },
     "execution_count": 5,
     "metadata": {},
     "output_type": "execute_result"
    }
   ],
   "source": [
    "features = ['mean_close_5', 'mean_close_30', 'mean_close_365']\n",
    "rmse = train_test(df_clean, features)\n",
    "rmse"
   ]
  },
  {
   "cell_type": "markdown",
   "metadata": {},
   "source": [
    "We now add two more indicators to see if it helps to improve the predictions and reduce the error.\n",
    "- The average **volume** over the **past five days**.\n",
    "- The average **volume** over the **past year**."
   ]
  },
  {
   "cell_type": "code",
   "execution_count": 6,
   "metadata": {},
   "outputs": [
    {
     "name": "stdout",
     "output_type": "stream",
     "text": [
      "RMSE for features = [mean_volume_5, mean_volume_365]: 732.2270657604481\n",
      "RMSE for features = [mean_close_5, mean_close_30, mean_close_365, mean_volume_5, mean_volume_365]: 22.234505187470507\n"
     ]
    }
   ],
   "source": [
    "df = add_mean_indicator_col(df, 5, 'mean_volume_5', 'Volume', np.mean)\n",
    "df = add_mean_indicator_col(df, 365, 'mean_volume_365', 'Volume', np.mean)\n",
    "df_clean = df.dropna(axis = 0)\n",
    "features = ['mean_volume_5', 'mean_volume_365']\n",
    "rmse = train_test(df_clean, features)\n",
    "print('RMSE for features = [mean_volume_5, mean_volume_365]:', rmse)\n",
    "\n",
    "features = ['mean_close_5', 'mean_close_30', 'mean_close_365', 'mean_volume_5', 'mean_volume_365']\n",
    "rmse = train_test(df_clean, features)\n",
    "print('RMSE for features = [mean_close_5, mean_close_30, mean_close_365, mean_volume_5, mean_volume_365]:', rmse)"
   ]
  },
  {
   "cell_type": "markdown",
   "metadata": {},
   "source": [
    "Using the average values of the past days of the Volume column does not show improvement in prediction.\n",
    "\n",
    "Now we add the following indicators and see the results:\n",
    "- The **ratio** between the average price for the past 5 days, and the average price for the past 365 days.\n",
    "- The **ratio** between the standard deviation for the past 5 days, and the standard deviation for the past 365 days."
   ]
  },
  {
   "cell_type": "code",
   "execution_count": 7,
   "metadata": {},
   "outputs": [
    {
     "data": {
      "text/plain": [
       "Open                0.999900\n",
       "High                0.999953\n",
       "Low                 0.999956\n",
       "Close               1.000000\n",
       "Volume              0.772817\n",
       "Adj Close           1.000000\n",
       "mean_close_5        0.999793\n",
       "mean_close_30       0.999189\n",
       "mean_close_365      0.988870\n",
       "mean_volume_5       0.780896\n",
       "mean_volume_365     0.784878\n",
       "ratio_mean_close    0.047782\n",
       "std_close_5         0.722414\n",
       "std_close_365       0.816103\n",
       "ratio_std_close     0.087018\n",
       "Name: Close, dtype: float64"
      ]
     },
     "execution_count": 7,
     "metadata": {},
     "output_type": "execute_result"
    }
   ],
   "source": [
    "df['ratio_mean_close'] = df['mean_close_5']/df['mean_close_365']\n",
    "\n",
    "df = add_mean_indicator_col(df, 5, 'std_close_5', 'Close', np.std)\n",
    "df = add_mean_indicator_col(df, 365, 'std_close_365', 'Close', np.std)\n",
    "df['ratio_std_close'] = df['std_close_5']/df['std_close_365']\n",
    "\n",
    "#Remove nulls and model\n",
    "df_clean = df.dropna(axis = 0)\n",
    "\n",
    "df_clean.corr()['Close']"
   ]
  },
  {
   "cell_type": "markdown",
   "metadata": {},
   "source": [
    "The above correlation coefficients show that ratios are not correlated to the price."
   ]
  },
  {
   "cell_type": "code",
   "execution_count": 8,
   "metadata": {},
   "outputs": [
    {
     "name": "stdout",
     "output_type": "stream",
     "text": [
      "RMSE for mean of Close without ratio:  22.178420498912217\n",
      "RMSE for mean of Close with ratio:  22.178149148967584\n",
      "RMSE for std of Close without ratio:  802.681605426773\n",
      "RMSE for std of Close with ratio:  802.6811942101356\n",
      "All:  22.15180399006527\n"
     ]
    }
   ],
   "source": [
    "#features = ['ratio_mean_close', 'ratio_std_close', 'mean_close_5', 'mean_close_365', 'mean_volume_5', 'mean_volume_365']\n",
    "features = ['mean_close_5', 'mean_close_365']\n",
    "rmse = train_test(df_clean, features)\n",
    "print('RMSE for mean of Close without ratio: ', rmse)\n",
    "\n",
    "features = ['mean_close_5', 'mean_close_365', 'ratio_mean_close']\n",
    "rmse = train_test(df_clean, features)\n",
    "print('RMSE for mean of Close with ratio: ', rmse)\n",
    "\n",
    "features = ['std_close_5', 'std_close_365']\n",
    "rmse = train_test(df_clean, features)\n",
    "print('RMSE for std of Close without ratio: ', rmse)\n",
    "\n",
    "features = ['std_close_5', 'std_close_365', 'ratio_std_close']\n",
    "rmse = train_test(df_clean, features)\n",
    "print('RMSE for std of Close with ratio: ', rmse)\n",
    "\n",
    "features = ['ratio_mean_close', 'ratio_std_close', 'mean_close_5', 'mean_close_365', 'std_close_5', 'std_close_365']\n",
    "rmse = train_test(df_clean, features)\n",
    "print('All: ', rmse)"
   ]
  },
  {
   "cell_type": "markdown",
   "metadata": {},
   "source": [
    "The ratios do not show a significant effect in reducing error.\n",
    "\n",
    "We also check the **Date** column by creating the following indicators:\n",
    "- The **year** component of the date.\n",
    "- The **month** component of the date.\n",
    "- The **day** component of the date."
   ]
  },
  {
   "cell_type": "code",
   "execution_count": 9,
   "metadata": {},
   "outputs": [
    {
     "data": {
      "text/plain": [
       "Open                0.999900\n",
       "High                0.999953\n",
       "Low                 0.999956\n",
       "Close               1.000000\n",
       "Volume              0.772817\n",
       "Adj Close           1.000000\n",
       "mean_close_5        0.999793\n",
       "mean_close_30       0.999189\n",
       "mean_close_365      0.988870\n",
       "mean_volume_5       0.780896\n",
       "mean_volume_365     0.784878\n",
       "ratio_mean_close    0.047782\n",
       "std_close_5         0.722414\n",
       "std_close_365       0.816103\n",
       "ratio_std_close     0.087018\n",
       "year                0.872100\n",
       "month               0.005684\n",
       "day                -0.001525\n",
       "Name: Close, dtype: float64"
      ]
     },
     "execution_count": 9,
     "metadata": {},
     "output_type": "execute_result"
    }
   ],
   "source": [
    "df['year'] = df['Date'].dt.strftime('%Y').astype(float)\n",
    "df['month'] = df['Date'].dt.strftime('%m').astype(float)\n",
    "df['day'] = df['Date'].dt.strftime('%d').astype(float)\n",
    "df_clean = df.dropna(axis = 0)\n",
    "\n",
    "df_clean.corr()['Close']"
   ]
  },
  {
   "cell_type": "code",
   "execution_count": 10,
   "metadata": {},
   "outputs": [
    {
     "name": "stdout",
     "output_type": "stream",
     "text": [
      "RMSE for features = ['year', 'month', 'day']:  719.8237863775871\n",
      "RMSE for features = ['mean_close_5', 'mean_close_365','year']:  22.193454834355535\n",
      "RMSE for features = ['mean_close_5', 'mean_close_365','year', 'month', 'day']:  22.18586410431193\n"
     ]
    }
   ],
   "source": [
    "features = ['year', 'month', 'day']\n",
    "rmse = train_test(df_clean, features)\n",
    "print(\"RMSE for features = ['year', 'month', 'day']: \", rmse)\n",
    "\n",
    "features = ['mean_close_5', 'mean_close_365','year']\n",
    "rmse = train_test(df_clean, features)\n",
    "print(\"RMSE for features = ['mean_close_5', 'mean_close_365','year']: \", rmse)\n",
    "\n",
    "features = ['mean_close_5', 'mean_close_365','year', 'month', 'day']\n",
    "rmse = train_test(df_clean, features)\n",
    "print(\"RMSE for features = ['mean_close_5', 'mean_close_365','year', 'month', 'day']: \", rmse)"
   ]
  },
  {
   "cell_type": "markdown",
   "metadata": {},
   "source": [
    "These indicators do not have a significant effect as well."
   ]
  },
  {
   "cell_type": "markdown",
   "metadata": {},
   "source": [
    "## Making predictions one day ahead\n",
    "We now see if the accuracy improves greatly by making predictions only one day ahead. For example, train the model using data from 1951-01-03 to 2013-01-02, then make predictions for 2013-01-03, and then train another model using data from 1951-01-03 to 2013-01-03, and make predictions for 2013-01-04, and so on. This more closely simulates what we'd do if we were trading using the algorithm."
   ]
  },
  {
   "cell_type": "code",
   "execution_count": 11,
   "metadata": {},
   "outputs": [],
   "source": [
    "def train_test(df, features, row):\n",
    "    train  = df[df[\"Date\"] < row['Date']]\n",
    "    test = df[df[\"Date\"] == row['Date']]\n",
    "    if len(train) == 0:\n",
    "        return np.nan\n",
    "    else:        \n",
    "        #initialize model\n",
    "        lr = LinearRegression()\n",
    "        target = 'Close'\n",
    "\n",
    "        #Train\n",
    "        lr.fit(train[features], train[target])\n",
    "\n",
    "        #Test\n",
    "        predictions = lr.predict(test[features])\n",
    "\n",
    "        #Calculate error\n",
    "        mse = mean_squared_error(test[target], predictions)\n",
    "        rmse = np.sqrt(mse)\n",
    "        return rmse"
   ]
  },
  {
   "cell_type": "code",
   "execution_count": 12,
   "metadata": {},
   "outputs": [
    {
     "data": {
      "text/plain": [
       "5.482714047042083"
      ]
     },
     "execution_count": 12,
     "metadata": {},
     "output_type": "execute_result"
    }
   ],
   "source": [
    "features = ['ratio_mean_close', 'ratio_std_close', 'mean_close_5','mean_close_30', 'mean_close_365', 'mean_volume_5', 'mean_volume_365','std_close_5', 'std_close_365','year', 'month', 'day']\n",
    "rmses = df_clean.apply(lambda row: train_test(df_clean, features, row), axis = 1 )\n",
    "\n",
    "rmse = np.mean(rmses)\n",
    "rmse"
   ]
  },
  {
   "cell_type": "markdown",
   "metadata": {},
   "source": [
    "This result shows a significantly lower error than the previous ones. Therefore, we can say accuracy would improve greatly by making predictions only one day ahead."
   ]
  },
  {
   "cell_type": "markdown",
   "metadata": {},
   "source": [
    "## Summary\n",
    "\n",
    "In this project, we used S&P500 Index data from 1950 to 2015 to make predictions of the close day price of the index. We practiced using the linear regression model with different indicators to make better predictions. We also tried making predictions only one day ahead to improve the accuracy of the predictions and it significantly reduced the error."
   ]
  }
 ],
 "metadata": {
  "kernelspec": {
   "display_name": "Python 3",
   "language": "python",
   "name": "python3"
  },
  "language_info": {
   "codemirror_mode": {
    "name": "ipython",
    "version": 3
   },
   "file_extension": ".py",
   "mimetype": "text/x-python",
   "name": "python",
   "nbconvert_exporter": "python",
   "pygments_lexer": "ipython3",
   "version": "3.7.7"
  }
 },
 "nbformat": 4,
 "nbformat_minor": 4
}
